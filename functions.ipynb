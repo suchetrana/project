{
 "cells": [
  {
   "cell_type": "code",
   "execution_count": null,
   "id": "decac4c8",
   "metadata": {},
   "outputs": [],
   "source": [
    "def fact(a):\n",
    "    a_fact = 1\n",
    "    for i in range(1,a+1):\n",
    "        a_fact = a_fact*i\n",
    "    return a_fact"
   ]
  },
  {
   "cell_type": "code",
   "execution_count": null,
   "id": "cd68e0ac",
   "metadata": {},
   "outputs": [],
   "source": [
    "a=fact(4)\n",
    "a"
   ]
  },
  {
   "cell_type": "code",
   "execution_count": null,
   "id": "439c4b20",
   "metadata": {},
   "outputs": [],
   "source": [
    "n=int(input())\n",
    "r=int(input())\n",
    "n_fact=fact(n)\n",
    "r_fact=fact(r)\n",
    "n_r_fact=fact(n-r)\n",
    "ans=n_fact//(r_fact*n_r_fact)\n",
    "print(ans)"
   ]
  },
  {
   "cell_type": "code",
   "execution_count": 5,
   "id": "01f663bd",
   "metadata": {},
   "outputs": [
    {
     "name": "stdout",
     "output_type": "stream",
     "text": [
      "not prime\n"
     ]
    }
   ],
   "source": [
    "def isPrime(n):\n",
    "    p=False\n",
    "    for d in range(2,n):\n",
    "        if n % d == 0:\n",
    "            p=True\n",
    "            break\n",
    "    if p:\n",
    "        return False\n",
    "    else:\n",
    "        return True\n",
    "         \n",
    "isPrime(9)"
   ]
  },
  {
   "cell_type": "code",
   "execution_count": null,
   "id": "0e2b18da",
   "metadata": {},
   "outputs": [],
   "source": [
    "def Primeseris(n):\n",
    "    for k in range(2,n+1):\n",
    "        is_k_prime=isPrime(k)\n",
    "        if (is_k_prime):\n",
    "            print(k)\n",
    "Primeseris(29)"
   ]
  },
  {
   "cell_type": "code",
   "execution_count": 7,
   "id": "4d97c6ea",
   "metadata": {},
   "outputs": [
    {
     "name": "stdout",
     "output_type": "stream",
     "text": [
      "Enter: 50\n",
      "2\n",
      "3\n",
      "5\n",
      "7\n",
      "11\n",
      "13\n",
      "17\n",
      "19\n",
      "23\n",
      "29\n",
      "31\n",
      "37\n",
      "41\n",
      "43\n",
      "47\n"
     ]
    }
   ],
   "source": [
    "def isPrime(n):\n",
    "    p=False\n",
    "    for d in range(2,n):\n",
    "        if n % d == 0:\n",
    "            p=True\n",
    "            break\n",
    "    if p:\n",
    "        return False\n",
    "    else:\n",
    "        return True\n",
    "            \n",
    "\n",
    "n=int(input(\"Enter: \"))\n",
    "for i in range(2,n+1):\n",
    "    if isPrime(i):\n",
    "        print(i)\n",
    "    else:\n",
    "        continue"
   ]
  },
  {
   "cell_type": "markdown",
   "id": "0f384a9b",
   "metadata": {},
   "source": [
    "code armstrong\n"
   ]
  },
  {
   "cell_type": "code",
   "execution_count": 35,
   "id": "48c84612",
   "metadata": {
    "scrolled": true
   },
   "outputs": [
    {
     "name": "stdout",
     "output_type": "stream",
     "text": [
      "1634\n",
      "1634\n"
     ]
    }
   ],
   "source": [
    "n=int(input())\n",
    "m=str(n)\n",
    "p=len(m)\n",
    "s=0\n",
    "while(n>0):\n",
    "    c=n%10\n",
    "    s=c**p+s\n",
    "    n=n//10\n",
    "print(s)"
   ]
  },
  {
   "cell_type": "markdown",
   "id": "c3353ca7",
   "metadata": {},
   "source": [
    "code for sum of even part and odd part in number"
   ]
  },
  {
   "cell_type": "code",
   "execution_count": null,
   "id": "f5e07264",
   "metadata": {},
   "outputs": [],
   "source": []
  },
  {
   "cell_type": "code",
   "execution_count": 36,
   "id": "cccc568c",
   "metadata": {},
   "outputs": [
    {
     "name": "stdout",
     "output_type": "stream",
     "text": [
      "123456\n",
      "even=12odd=9\n"
     ]
    }
   ],
   "source": [
    "n=int(input())\n",
    "e=0\n",
    "q=0\n",
    "while(n>0):\n",
    "    c=n%10\n",
    "    n=n//10\n",
    "    if c%2==0:\n",
    "        q=q+c\n",
    "    else:\n",
    "        e=e+c\n",
    "print(f\"even={q}odd={e}\")"
   ]
  },
  {
   "cell_type": "code",
   "execution_count": 19,
   "id": "1a267402",
   "metadata": {},
   "outputs": [
    {
     "name": "stdout",
     "output_type": "stream",
     "text": [
      "1234\n",
      "10\n"
     ]
    }
   ],
   "source": [
    "number=input()\n",
    "a=0\n",
    "for i in number:\n",
    "    a=a+int(i)\n",
    "print(a)"
   ]
  },
  {
   "cell_type": "code",
   "execution_count": 32,
   "id": "981c49bb",
   "metadata": {},
   "outputs": [
    {
     "name": "stdout",
     "output_type": "stream",
     "text": [
      "Enter number: 1634\n",
      "1634 is an Armstrong number\n"
     ]
    }
   ],
   "source": [
    "n=input(\"Enter number: \")\n",
    "num_digits=len(n)\n",
    "sum_digits=0\n",
    "for i in n:\n",
    "    sum_digits=sum_digits+int(i)**num_digits\n",
    "if sum_digits==int(n):\n",
    "#     return True\n",
    "    print(f\"{n} is an Armstrong number\")\n",
    "else:\n",
    "#     return False\n",
    "    print(f\"{n} is not an Armstrong number\")\n"
   ]
  },
  {
   "cell_type": "code",
   "execution_count": 34,
   "id": "6729b9ed",
   "metadata": {},
   "outputs": [],
   "source": [
    "n=\"hello\"\n",
    "n=m"
   ]
  },
  {
   "cell_type": "code",
   "execution_count": 6,
   "id": "1f766724",
   "metadata": {},
   "outputs": [
    {
     "name": "stdout",
     "output_type": "stream",
     "text": [
      "enter name Vishal Singh\n",
      "V.Singh\n"
     ]
    }
   ],
   "source": [
    "n=input(\"enter name \")\n",
    "m=n.split(\" \")\n",
    "length=len(m)\n",
    "last_remove=m.pop()\n",
    "if length==2:\n",
    "    a=m[0]\n",
    "    print(a[0]+\".\"+last_remove)\n",
    "elif length==3:\n",
    "    b=m[0]\n",
    "    c=m[1]\n",
    "    print(b[0]+\".\"+c[0]+\".\"+last_remove)\n",
    "else:\n",
    "    print(\"no\")\n"
   ]
  }
 ],
 "metadata": {
  "kernelspec": {
   "display_name": "Python 3 (ipykernel)",
   "language": "python",
   "name": "python3"
  },
  "language_info": {
   "codemirror_mode": {
    "name": "ipython",
    "version": 3
   },
   "file_extension": ".py",
   "mimetype": "text/x-python",
   "name": "python",
   "nbconvert_exporter": "python",
   "pygments_lexer": "ipython3",
   "version": "3.11.4"
  }
 },
 "nbformat": 4,
 "nbformat_minor": 5
}
